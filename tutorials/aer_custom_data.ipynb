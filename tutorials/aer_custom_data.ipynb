{
 "cells": [
  {
   "cell_type": "code",
   "execution_count": 61,
   "id": "5d4ce4b8",
   "metadata": {},
   "outputs": [],
   "source": [
    "import pandas as pd\n",
    "\n",
    "from orion.data import load_signal"
   ]
  },
  {
   "cell_type": "markdown",
   "id": "ec5c7e8c",
   "metadata": {},
   "source": [
    "# 1. Data"
   ]
  },
  {
   "cell_type": "code",
   "execution_count": 73,
   "id": "da695e98",
   "metadata": {},
   "outputs": [
    {
     "name": "stdout",
     "output_type": "stream",
     "text": [
      "     v1    v2     v3   v4   v5   v6     v7     v8     v9    v10    v11  \\\n",
      "0 -2.00  1.51  10.14  0.0  0.0  0.0 -15.78 -22.31 -11.70 -13.57  92.95   \n",
      "1 -2.00  1.51  10.13  0.0  0.0  0.0 -16.86 -23.38 -10.31 -13.57  92.95   \n",
      "2 -2.00  1.51  10.13  0.0  0.0  0.0 -16.86 -23.38 -10.31 -13.57  92.95   \n",
      "3 -1.99  1.51  10.17  0.0  0.0  0.0 -16.86 -23.38 -10.31 -13.57  92.95   \n",
      "4 -1.99  1.51  10.17  0.0  0.0  0.0 -16.86 -23.38 -10.31 -13.57  92.95   \n",
      "\n",
      "            timestamp  \n",
      "0 2024-01-01 00:00:00  \n",
      "1 2024-01-01 00:00:01  \n",
      "2 2024-01-01 00:00:02  \n",
      "3 2024-01-01 00:00:03  \n",
      "4 2024-01-01 00:00:04  \n",
      "<class 'pandas.core.frame.DataFrame'>\n"
     ]
    }
   ],
   "source": [
    "reference_time = pd.Timestamp('2024-01-01 00:00:00')\n",
    "data = pd.read_csv(\"/Users/coloner/IdeaProjects/ml/Orion/data/TimeSeries.csv\")\n",
    "\n",
    "data['timestamp'] = pd.to_datetime(data.index, unit='s', origin=reference_time)\n",
    "\n",
    "\n",
    "print(data.head())\n",
    "print(type(data))"
   ]
  },
  {
   "cell_type": "code",
   "execution_count": 163,
   "id": "9d463d57-d81e-480d-9e97-b2b04ccfab09",
   "metadata": {},
   "outputs": [
    {
     "name": "stdout",
     "output_type": "stream",
     "text": [
      "('a',)\n"
     ]
    }
   ],
   "source": [
    "a = (\"a\", \"b\", \"c\", \"d\", \"e\", \"f\", \"g\", \"h\")\n",
    "x = slice(1)\n",
    "print(a[x])"
   ]
  },
  {
   "cell_type": "code",
   "execution_count": 164,
   "id": "a03ead00-a2e7-41ad-9667-6d0729ecc696",
   "metadata": {},
   "outputs": [
    {
     "name": "stdout",
     "output_type": "stream",
     "text": [
      "[[[ 0  1  2  3  4]\n",
      "  [ 5  6  7  8  9]\n",
      "  [10 11 12 13 14]\n",
      "  [15 16 17 18 19]]\n",
      "\n",
      " [[20 21 22 23 24]\n",
      "  [25 26 27 28 29]\n",
      "  [30 31 32 33 34]\n",
      "  [35 36 37 38 39]]\n",
      "\n",
      " [[40 41 42 43 44]\n",
      "  [45 46 47 48 49]\n",
      "  [50 51 52 53 54]\n",
      "  [55 56 57 58 59]]]\n",
      "[slice(None, None, None), [2], slice(None, None, None)]\n",
      "[[[10 11 12 13 14]]\n",
      "\n",
      " [[30 31 32 33 34]]\n",
      "\n",
      " [[50 51 52 53 54]]]\n"
     ]
    }
   ],
   "source": [
    "import numpy as np\n",
    "\n",
    "# Example array (3D)\n",
    "X = np.arange(3 * 4 * 5).reshape((3, 4, 5))\n",
    "print(X)\n",
    "\n",
    "# Parameters\n",
    "target_index = 2\n",
    "axis = 1\n",
    "\n",
    "# Function execution\n",
    "if isinstance(target_index, int):\n",
    "    target_index = [target_index]\n",
    "\n",
    "dims = len(X.shape)\n",
    "if axis >= (dims):\n",
    "    raise ValueError(\"Axis {} is outside the dimensions of X ({}).\".format(axis, dims))\n",
    "\n",
    "indices = [slice(None)] * dims\n",
    "indices[axis] = target_index\n",
    "print(indices)\n",
    "\n",
    "result = X[tuple(indices)].copy()\n",
    "print(result)"
   ]
  },
  {
   "cell_type": "code",
   "execution_count": null,
   "id": "47286464-f2ef-4bbc-b2c6-3a594703ffc7",
   "metadata": {},
   "outputs": [],
   "source": []
  },
  {
   "cell_type": "code",
   "execution_count": null,
   "id": "aa4e95c9-0b2a-4b57-bb03-7427306d0236",
   "metadata": {},
   "outputs": [],
   "source": []
  },
  {
   "cell_type": "code",
   "execution_count": 74,
   "id": "e8a272fd-073e-4062-a5e3-9395bc207691",
   "metadata": {},
   "outputs": [
    {
     "data": {
      "text/plain": [
       "0"
      ]
     },
     "execution_count": 74,
     "metadata": {},
     "output_type": "execute_result"
    }
   ],
   "source": [
    "data.columns.get_loc('v1')"
   ]
  },
  {
   "cell_type": "code",
   "execution_count": 118,
   "id": "adccbbb3-a6a7-4e26-a999-c73b6c294a74",
   "metadata": {},
   "outputs": [
    {
     "data": {
      "text/html": [
       "<div>\n",
       "<style scoped>\n",
       "    .dataframe tbody tr th:only-of-type {\n",
       "        vertical-align: middle;\n",
       "    }\n",
       "\n",
       "    .dataframe tbody tr th {\n",
       "        vertical-align: top;\n",
       "    }\n",
       "\n",
       "    .dataframe thead th {\n",
       "        text-align: right;\n",
       "    }\n",
       "</style>\n",
       "<table border=\"1\" class=\"dataframe\">\n",
       "  <thead>\n",
       "    <tr style=\"text-align: right;\">\n",
       "      <th></th>\n",
       "      <th>v1</th>\n",
       "      <th>v2</th>\n",
       "      <th>v3</th>\n",
       "      <th>v4</th>\n",
       "      <th>v5</th>\n",
       "      <th>v6</th>\n",
       "      <th>v7</th>\n",
       "      <th>v8</th>\n",
       "      <th>v9</th>\n",
       "      <th>v10</th>\n",
       "      <th>v11</th>\n",
       "      <th>timestamp</th>\n",
       "    </tr>\n",
       "  </thead>\n",
       "  <tbody>\n",
       "    <tr>\n",
       "      <th>0</th>\n",
       "      <td>-2.00</td>\n",
       "      <td>1.51</td>\n",
       "      <td>10.14</td>\n",
       "      <td>0.0</td>\n",
       "      <td>0.0</td>\n",
       "      <td>0.0</td>\n",
       "      <td>-15.78</td>\n",
       "      <td>-22.31</td>\n",
       "      <td>-11.70</td>\n",
       "      <td>-13.57</td>\n",
       "      <td>92.95</td>\n",
       "      <td>1704067200</td>\n",
       "    </tr>\n",
       "    <tr>\n",
       "      <th>1</th>\n",
       "      <td>-2.00</td>\n",
       "      <td>1.51</td>\n",
       "      <td>10.13</td>\n",
       "      <td>0.0</td>\n",
       "      <td>0.0</td>\n",
       "      <td>0.0</td>\n",
       "      <td>-16.86</td>\n",
       "      <td>-23.38</td>\n",
       "      <td>-10.31</td>\n",
       "      <td>-13.57</td>\n",
       "      <td>92.95</td>\n",
       "      <td>1704067201</td>\n",
       "    </tr>\n",
       "    <tr>\n",
       "      <th>2</th>\n",
       "      <td>-2.00</td>\n",
       "      <td>1.51</td>\n",
       "      <td>10.13</td>\n",
       "      <td>0.0</td>\n",
       "      <td>0.0</td>\n",
       "      <td>0.0</td>\n",
       "      <td>-16.86</td>\n",
       "      <td>-23.38</td>\n",
       "      <td>-10.31</td>\n",
       "      <td>-13.57</td>\n",
       "      <td>92.95</td>\n",
       "      <td>1704067202</td>\n",
       "    </tr>\n",
       "    <tr>\n",
       "      <th>3</th>\n",
       "      <td>-1.99</td>\n",
       "      <td>1.51</td>\n",
       "      <td>10.17</td>\n",
       "      <td>0.0</td>\n",
       "      <td>0.0</td>\n",
       "      <td>0.0</td>\n",
       "      <td>-16.86</td>\n",
       "      <td>-23.38</td>\n",
       "      <td>-10.31</td>\n",
       "      <td>-13.57</td>\n",
       "      <td>92.95</td>\n",
       "      <td>1704067203</td>\n",
       "    </tr>\n",
       "    <tr>\n",
       "      <th>4</th>\n",
       "      <td>-1.99</td>\n",
       "      <td>1.51</td>\n",
       "      <td>10.17</td>\n",
       "      <td>0.0</td>\n",
       "      <td>0.0</td>\n",
       "      <td>0.0</td>\n",
       "      <td>-16.86</td>\n",
       "      <td>-23.38</td>\n",
       "      <td>-10.31</td>\n",
       "      <td>-13.57</td>\n",
       "      <td>92.95</td>\n",
       "      <td>1704067204</td>\n",
       "    </tr>\n",
       "  </tbody>\n",
       "</table>\n",
       "</div>"
      ],
      "text/plain": [
       "     v1    v2     v3   v4   v5   v6     v7     v8     v9    v10    v11  \\\n",
       "0 -2.00  1.51  10.14  0.0  0.0  0.0 -15.78 -22.31 -11.70 -13.57  92.95   \n",
       "1 -2.00  1.51  10.13  0.0  0.0  0.0 -16.86 -23.38 -10.31 -13.57  92.95   \n",
       "2 -2.00  1.51  10.13  0.0  0.0  0.0 -16.86 -23.38 -10.31 -13.57  92.95   \n",
       "3 -1.99  1.51  10.17  0.0  0.0  0.0 -16.86 -23.38 -10.31 -13.57  92.95   \n",
       "4 -1.99  1.51  10.17  0.0  0.0  0.0 -16.86 -23.38 -10.31 -13.57  92.95   \n",
       "\n",
       "    timestamp  \n",
       "0  1704067200  \n",
       "1  1704067201  \n",
       "2  1704067202  \n",
       "3  1704067203  \n",
       "4  1704067204  "
      ]
     },
     "execution_count": 118,
     "metadata": {},
     "output_type": "execute_result"
    }
   ],
   "source": [
    "data.head()"
   ]
  },
  {
   "cell_type": "code",
   "execution_count": 76,
   "id": "7c60bcbd-62b3-48e8-9cab-b1a4c3e8a0cc",
   "metadata": {},
   "outputs": [
    {
     "data": {
      "text/plain": [
       "1.0"
      ]
     },
     "execution_count": 76,
     "metadata": {},
     "output_type": "execute_result"
    }
   ],
   "source": [
    "(data.loc[1,'timestamp'] - data.loc[0,'timestamp']).total_seconds()"
   ]
  },
  {
   "cell_type": "code",
   "execution_count": 90,
   "id": "0e7029c2-ba9d-4ece-b018-227823ad9380",
   "metadata": {},
   "outputs": [],
   "source": [
    "data['timestamp'] = data['timestamp'].view('int64') "
   ]
  },
  {
   "cell_type": "code",
   "execution_count": 98,
   "id": "ec336a20-2838-46f7-ac3e-0ca2c0c5b5fe",
   "metadata": {},
   "outputs": [],
   "source": [
    "data['timestamp'] = data['timestamp'].astype('int64')"
   ]
  },
  {
   "cell_type": "code",
   "execution_count": 100,
   "id": "2f51f40c-ee31-47eb-ac3e-ea92de0ca8c8",
   "metadata": {},
   "outputs": [
    {
     "data": {
      "text/plain": [
       "(509632, 12)"
      ]
     },
     "execution_count": 100,
     "metadata": {},
     "output_type": "execute_result"
    }
   ],
   "source": [
    "data.shape"
   ]
  },
  {
   "cell_type": "markdown",
   "id": "96767bae",
   "metadata": {},
   "source": [
    "# 2. Pipeline"
   ]
  },
  {
   "cell_type": "code",
   "execution_count": 79,
   "id": "fa524c4c",
   "metadata": {},
   "outputs": [
    {
     "name": "stderr",
     "output_type": "stream",
     "text": [
      "WARNING:absl:At this time, the v2.11+ optimizer `tf.keras.optimizers.Adam` runs slowly on M1/M2 Macs, please use the legacy Keras optimizer instead, located at `tf.keras.optimizers.legacy.Adam`.\n"
     ]
    }
   ],
   "source": [
    "from mlblocks import MLPipeline\n",
    "\n",
    "pipeline_name = 'aer'\n",
    "\n",
    "pipeline = MLPipeline(pipeline_name)"
   ]
  },
  {
   "cell_type": "code",
   "execution_count": 101,
   "id": "5b889d9f",
   "metadata": {},
   "outputs": [
    {
     "name": "stderr",
     "output_type": "stream",
     "text": [
      "WARNING:absl:At this time, the v2.11+ optimizer `tf.keras.optimizers.Adam` runs slowly on M1/M2 Macs, please use the legacy Keras optimizer instead, located at `tf.keras.optimizers.legacy.Adam`.\n"
     ]
    }
   ],
   "source": [
    "hyperparameters = {\n",
    "    \"mlstars.custom.timeseries_preprocessing.time_segments_aggregate#1\": {\n",
    "        'interval': 1\n",
    "    },\n",
    "    \"mlstars.custom.timeseries_preprocessing.rolling_window_sequences#1\": {\n",
    "        'target_column': 0\n",
    "    },\n",
    "    'orion.primitives.aer.AER#1': {\n",
    "        'epochs': 5,\n",
    "        'verbose': True\n",
    "    }\n",
    "}\n",
    "pipeline.set_hyperparameters(hyperparameters)"
   ]
  },
  {
   "cell_type": "markdown",
   "id": "0f6eddcc",
   "metadata": {},
   "source": [
    "## step by step execution\n",
    "\n",
    "MLPipelines are compose of a squence of primitives, these primitives apply tranformation and calculation operations to the data and updates the variables within the pipeline. To view the primitives used by the pipeline, we access its `primtivies` attribute. \n",
    "\n",
    "The `lstm_dynamic_threshold` contains 7 primitives. we will observe how the `context` (which are the variables held within the pipeline) are updated after the execution of each primitive."
   ]
  },
  {
   "cell_type": "code",
   "execution_count": 85,
   "id": "ea1faf86",
   "metadata": {},
   "outputs": [
    {
     "data": {
      "text/plain": [
       "['mlstars.custom.timeseries_preprocessing.time_segments_aggregate',\n",
       " 'sklearn.impute.SimpleImputer',\n",
       " 'sklearn.preprocessing.MinMaxScaler',\n",
       " 'mlstars.custom.timeseries_preprocessing.rolling_window_sequences',\n",
       " 'orion.primitives.timeseries_preprocessing.slice_array_by_dims',\n",
       " 'orion.primitives.aer.AER',\n",
       " 'orion.primitives.aer.score_anomalies',\n",
       " 'orion.primitives.timeseries_anomalies.find_anomalies']"
      ]
     },
     "execution_count": 85,
     "metadata": {},
     "output_type": "execute_result"
    }
   ],
   "source": [
    "pipeline.primitives"
   ]
  },
  {
   "cell_type": "markdown",
   "id": "554f5daa",
   "metadata": {},
   "source": [
    "### time segments aggregate\n",
    "this primitive creates an equi-spaced time series by aggregating values over fixed specified interval.\n",
    "\n",
    "* **input**: `X` which is an n-dimensional sequence of values.\n",
    "* **output**:\n",
    "    - `X` sequence of aggregated values, one column for each aggregation method.\n",
    "    - `index` sequence of index values (first index of each aggregated segment)."
   ]
  },
  {
   "cell_type": "code",
   "execution_count": 116,
   "id": "085f2c88-0cc0-4c0a-a964-a6af76d47519",
   "metadata": {},
   "outputs": [
    {
     "data": {
      "text/plain": [
       "509632"
      ]
     },
     "execution_count": 116,
     "metadata": {},
     "output_type": "execute_result"
    }
   ],
   "source": [
    "len(context['index'])"
   ]
  },
  {
   "cell_type": "code",
   "execution_count": 115,
   "id": "3b2c89f5",
   "metadata": {},
   "outputs": [
    {
     "data": {
      "text/plain": [
       "dict_keys(['X', 'index'])"
      ]
     },
     "execution_count": 115,
     "metadata": {},
     "output_type": "execute_result"
    }
   ],
   "source": [
    "context = pipeline.fit(data, output_=0) \n",
    "context.keys()"
   ]
  },
  {
   "cell_type": "code",
   "execution_count": null,
   "id": "8455fd44-c7c0-45ba-b035-fd0d8293c9e3",
   "metadata": {},
   "outputs": [],
   "source": []
  },
  {
   "cell_type": "code",
   "execution_count": null,
   "id": "7d42fd5d-9f22-4b04-957d-9074536684c8",
   "metadata": {},
   "outputs": [],
   "source": []
  },
  {
   "cell_type": "code",
   "execution_count": null,
   "id": "6f6ec937-8a69-4c99-8265-22d7083e69f5",
   "metadata": {},
   "outputs": [],
   "source": []
  },
  {
   "cell_type": "code",
   "execution_count": 123,
   "id": "e69c4925",
   "metadata": {},
   "outputs": [
    {
     "name": "stdout",
     "output_type": "stream",
     "text": [
      "entry at 1704067200 has value [[ -2.     1.51  10.14 ... -11.7  -13.57  92.95]\n",
      " [ -2.     1.51  10.13 ... -10.31 -13.57  92.95]\n",
      " [ -2.     1.51  10.13 ... -10.31 -13.57  92.95]\n",
      " ...\n",
      " [ -2.02   1.51  10.14 ... -12.56 -13.62  92.97]\n",
      " [ -2.02   1.51  10.14 ... -12.56 -13.62  92.96]\n",
      " [ -2.02   1.5   10.14 ... -12.56 -13.63  92.96]]\n",
      "entry at 1704067201 has value [[ -2.     1.51  10.13 ... -10.31 -13.57  92.95]\n",
      " [ -2.     1.51  10.13 ... -10.31 -13.57  92.95]\n",
      " [ -1.99   1.51  10.17 ... -10.31 -13.57  92.95]\n",
      " ...\n",
      " [ -2.02   1.51  10.14 ... -12.56 -13.62  92.96]\n",
      " [ -2.02   1.5   10.14 ... -12.56 -13.63  92.96]\n",
      " [ -2.02   1.5   10.14 ... -12.56 -13.63  92.96]]\n",
      "entry at 1704067202 has value [[ -2.     1.51  10.13 ... -10.31 -13.57  92.95]\n",
      " [ -1.99   1.51  10.17 ... -10.31 -13.57  92.95]\n",
      " [ -1.99   1.51  10.17 ... -10.31 -13.57  92.95]\n",
      " ...\n",
      " [ -2.02   1.5   10.14 ... -12.56 -13.63  92.96]\n",
      " [ -2.02   1.5   10.14 ... -12.56 -13.63  92.96]\n",
      " [ -2.     1.52  10.15 ... -11.18 -13.64  92.96]]\n",
      "entry at 1704067203 has value [[ -1.99   1.51  10.17 ... -10.31 -13.57  92.95]\n",
      " [ -1.99   1.51  10.17 ... -10.31 -13.57  92.95]\n",
      " [ -2.     1.53  10.13 ... -10.31 -13.57  92.96]\n",
      " ...\n",
      " [ -2.02   1.5   10.14 ... -12.56 -13.63  92.96]\n",
      " [ -2.     1.52  10.15 ... -11.18 -13.64  92.96]\n",
      " [ -2.     1.52  10.15 ... -11.18 -13.64  92.96]]\n",
      "entry at 1704067204 has value [[ -1.99   1.51  10.17 ... -10.31 -13.57  92.95]\n",
      " [ -2.     1.53  10.13 ... -10.31 -13.57  92.96]\n",
      " [ -2.     1.53  10.13 ... -10.31 -13.57  92.96]\n",
      " ...\n",
      " [ -2.     1.52  10.15 ... -11.18 -13.64  92.96]\n",
      " [ -2.     1.52  10.15 ... -11.18 -13.64  92.96]\n",
      " [ -2.     1.5   10.16 ... -11.18 -13.64  92.96]]\n"
     ]
    }
   ],
   "source": [
    "for i, x in list(zip(context['index'], context['X']))[:5]:\n",
    "    print(\"entry at {} has value {}\".format(i, x))"
   ]
  },
  {
   "cell_type": "markdown",
   "id": "00be9392",
   "metadata": {},
   "source": [
    "### SimpleImputer\n",
    "this primitive is an imputation transformer for filling missing values.\n",
    "* **input**: `X` which is an n-dimensional sequence of values.\n",
    "* **output**: `X` which is a transformed version of X."
   ]
  },
  {
   "cell_type": "code",
   "execution_count": 119,
   "id": "9658b615",
   "metadata": {},
   "outputs": [
    {
     "name": "stderr",
     "output_type": "stream",
     "text": [
      "/Users/coloner/IdeaProjects/ml/Orion/venv/lib/python3.9/site-packages/sklearn/impute/_base.py:356: FutureWarning: The 'verbose' parameter was deprecated in version 1.1 and will be removed in 1.3. A warning will always be raised upon the removal of empty columns in the future version.\n",
      "  warnings.warn(\n"
     ]
    },
    {
     "data": {
      "text/plain": [
       "dict_keys(['index', 'X'])"
      ]
     },
     "execution_count": 119,
     "metadata": {},
     "output_type": "execute_result"
    }
   ],
   "source": [
    "step = 1\n",
    "\n",
    "context = pipeline.fit(**context, output_=step, start_=step)\n",
    "context.keys()"
   ]
  },
  {
   "cell_type": "markdown",
   "id": "86a369ed",
   "metadata": {},
   "source": [
    "### MinMaxScaler\n",
    "this primitive transforms features by scaling each feature to a given range.\n",
    "* **input**: `X` the data used to compute the per-feature minimum and maximum used for later scaling along the features axis.\n",
    "* **output**: `X` which is a transformed version of X."
   ]
  },
  {
   "cell_type": "code",
   "execution_count": 32,
   "id": "d130e641",
   "metadata": {},
   "outputs": [
    {
     "data": {
      "text/plain": [
       "dict_keys(['index', 'X'])"
      ]
     },
     "execution_count": 32,
     "metadata": {},
     "output_type": "execute_result"
    }
   ],
   "source": [
    "step = 2\n",
    "\n",
    "context = pipeline.fit(**context, output_=step, start_=step)\n",
    "context.keys()"
   ]
  },
  {
   "cell_type": "code",
   "execution_count": 33,
   "id": "5d15a6e8",
   "metadata": {},
   "outputs": [
    {
     "name": "stdout",
     "output_type": "stream",
     "text": [
      "entry at 1222819200 has value [-0.36635895]\n",
      "entry at 1222840800 has value [-0.39410778]\n",
      "entry at 1222862400 has value [0.4036246]\n",
      "entry at 1222884000 has value [-0.36275906]\n",
      "entry at 1222905600 has value [-0.37074649]\n"
     ]
    }
   ],
   "source": [
    "# after scaling the data between [-1, 1]\n",
    "# in this example, no change is observed\n",
    "# since the data was pre-handedly scaled\n",
    "\n",
    "for i, x in list(zip(context['index'], context['X']))[:5]:\n",
    "    print(\"entry at {} has value {}\".format(i, x))"
   ]
  },
  {
   "cell_type": "markdown",
   "id": "5b9eeac4",
   "metadata": {},
   "source": [
    "### rolling window sequence\n",
    "this primitive generates many sub-sequences of the original sequence. it uses a rolling window approach to create the sub-sequences out of time series data.\n",
    "\n",
    "* **input**: \n",
    "    - `X` n-dimensional sequence to iterate over.\n",
    "    - `index` array containing the index values of X.\n",
    "* **output**:\n",
    "    - `X` input sequences.\n",
    "    - `y` target sequences.\n",
    "    - `index` first index value of each input sequence.\n",
    "    - `target_index` first index value of each target sequence."
   ]
  },
  {
   "cell_type": "code",
   "execution_count": 121,
   "id": "32759182",
   "metadata": {},
   "outputs": [
    {
     "data": {
      "text/plain": [
       "dict_keys(['index', 'X', 'y', 'X_index', 'y_index'])"
      ]
     },
     "execution_count": 121,
     "metadata": {},
     "output_type": "execute_result"
    }
   ],
   "source": [
    "step = 3\n",
    "\n",
    "context = pipeline.fit(**context, output_=step, start_=step)\n",
    "context.keys()"
   ]
  },
  {
   "cell_type": "code",
   "execution_count": 129,
   "id": "2500967d",
   "metadata": {},
   "outputs": [
    {
     "name": "stdout",
     "output_type": "stream",
     "text": [
      "X shape = (509532, 100, 11)\n",
      "y shape = (509532, 100, 1)\n",
      "X index shape = (509632,)\n",
      "y index shape = (509532,)\n",
      "X shape = [[[ -2.     1.51  10.14 ... -11.7  -13.57  92.95]\n",
      "  [ -2.     1.51  10.13 ... -10.31 -13.57  92.95]\n",
      "  [ -2.     1.51  10.13 ... -10.31 -13.57  92.95]\n",
      "  ...\n",
      "  [ -2.02   1.51  10.14 ... -12.56 -13.62  92.97]\n",
      "  [ -2.02   1.51  10.14 ... -12.56 -13.62  92.96]\n",
      "  [ -2.02   1.5   10.14 ... -12.56 -13.63  92.96]]\n",
      "\n",
      " [[ -2.     1.51  10.13 ... -10.31 -13.57  92.95]\n",
      "  [ -2.     1.51  10.13 ... -10.31 -13.57  92.95]\n",
      "  [ -1.99   1.51  10.17 ... -10.31 -13.57  92.95]\n",
      "  ...\n",
      "  [ -2.02   1.51  10.14 ... -12.56 -13.62  92.96]\n",
      "  [ -2.02   1.5   10.14 ... -12.56 -13.63  92.96]\n",
      "  [ -2.02   1.5   10.14 ... -12.56 -13.63  92.96]]\n",
      "\n",
      " [[ -2.     1.51  10.13 ... -10.31 -13.57  92.95]\n",
      "  [ -1.99   1.51  10.17 ... -10.31 -13.57  92.95]\n",
      "  [ -1.99   1.51  10.17 ... -10.31 -13.57  92.95]\n",
      "  ...\n",
      "  [ -2.02   1.5   10.14 ... -12.56 -13.63  92.96]\n",
      "  [ -2.02   1.5   10.14 ... -12.56 -13.63  92.96]\n",
      "  [ -2.     1.52  10.15 ... -11.18 -13.64  92.96]]\n",
      "\n",
      " [[ -1.99   1.51  10.17 ... -10.31 -13.57  92.95]\n",
      "  [ -1.99   1.51  10.17 ... -10.31 -13.57  92.95]\n",
      "  [ -2.     1.53  10.13 ... -10.31 -13.57  92.96]\n",
      "  ...\n",
      "  [ -2.02   1.5   10.14 ... -12.56 -13.63  92.96]\n",
      "  [ -2.     1.52  10.15 ... -11.18 -13.64  92.96]\n",
      "  [ -2.     1.52  10.15 ... -11.18 -13.64  92.96]]\n",
      "\n",
      " [[ -1.99   1.51  10.17 ... -10.31 -13.57  92.95]\n",
      "  [ -2.     1.53  10.13 ... -10.31 -13.57  92.96]\n",
      "  [ -2.     1.53  10.13 ... -10.31 -13.57  92.96]\n",
      "  ...\n",
      "  [ -2.     1.52  10.15 ... -11.18 -13.64  92.96]\n",
      "  [ -2.     1.52  10.15 ... -11.18 -13.64  92.96]\n",
      "  [ -2.     1.5   10.16 ... -11.18 -13.64  92.96]]]\n",
      "y shape = [[[-2.  ]\n",
      "  [-2.  ]\n",
      "  [-2.  ]\n",
      "  [-1.99]\n",
      "  [-1.99]\n",
      "  [-2.  ]\n",
      "  [-2.  ]\n",
      "  [-2.02]\n",
      "  [-2.02]\n",
      "  [-2.  ]\n",
      "  [-2.  ]\n",
      "  [-2.  ]\n",
      "  [-2.  ]\n",
      "  [-2.  ]\n",
      "  [-2.  ]\n",
      "  [-2.  ]\n",
      "  [-2.  ]\n",
      "  [-2.02]\n",
      "  [-2.  ]\n",
      "  [-2.  ]\n",
      "  [-2.  ]\n",
      "  [-2.  ]\n",
      "  [-2.  ]\n",
      "  [-2.  ]\n",
      "  [-2.  ]\n",
      "  [-1.98]\n",
      "  [-2.  ]\n",
      "  [-2.  ]\n",
      "  [-1.99]\n",
      "  [-1.99]\n",
      "  [-2.  ]\n",
      "  [-2.  ]\n",
      "  [-2.  ]\n",
      "  [-2.  ]\n",
      "  [-2.  ]\n",
      "  [-2.  ]\n",
      "  [-2.  ]\n",
      "  [-2.  ]\n",
      "  [-2.  ]\n",
      "  [-2.02]\n",
      "  [-2.02]\n",
      "  [-2.  ]\n",
      "  [-2.  ]\n",
      "  [-2.02]\n",
      "  [-2.02]\n",
      "  [-2.  ]\n",
      "  [-2.  ]\n",
      "  [-2.  ]\n",
      "  [-2.  ]\n",
      "  [-2.  ]\n",
      "  [-2.  ]\n",
      "  [-2.02]\n",
      "  [-2.02]\n",
      "  [-2.  ]\n",
      "  [-2.  ]\n",
      "  [-2.  ]\n",
      "  [-2.  ]\n",
      "  [-2.  ]\n",
      "  [-2.  ]\n",
      "  [-2.  ]\n",
      "  [-2.  ]\n",
      "  [-2.  ]\n",
      "  [-2.  ]\n",
      "  [-2.  ]\n",
      "  [-2.  ]\n",
      "  [-2.  ]\n",
      "  [-2.  ]\n",
      "  [-2.  ]\n",
      "  [-2.  ]\n",
      "  [-2.02]\n",
      "  [-2.02]\n",
      "  [-1.98]\n",
      "  [-1.98]\n",
      "  [-1.99]\n",
      "  [-1.99]\n",
      "  [-2.  ]\n",
      "  [-2.  ]\n",
      "  [-2.  ]\n",
      "  [-2.  ]\n",
      "  [-2.  ]\n",
      "  [-2.  ]\n",
      "  [-2.02]\n",
      "  [-2.02]\n",
      "  [-2.  ]\n",
      "  [-2.  ]\n",
      "  [-1.99]\n",
      "  [-1.99]\n",
      "  [-2.  ]\n",
      "  [-2.  ]\n",
      "  [-2.  ]\n",
      "  [-2.  ]\n",
      "  [-2.  ]\n",
      "  [-2.  ]\n",
      "  [-1.99]\n",
      "  [-1.99]\n",
      "  [-2.  ]\n",
      "  [-2.  ]\n",
      "  [-2.02]\n",
      "  [-2.02]\n",
      "  [-2.02]]\n",
      "\n",
      " [[-2.  ]\n",
      "  [-2.  ]\n",
      "  [-1.99]\n",
      "  [-1.99]\n",
      "  [-2.  ]\n",
      "  [-2.  ]\n",
      "  [-2.02]\n",
      "  [-2.02]\n",
      "  [-2.  ]\n",
      "  [-2.  ]\n",
      "  [-2.  ]\n",
      "  [-2.  ]\n",
      "  [-2.  ]\n",
      "  [-2.  ]\n",
      "  [-2.  ]\n",
      "  [-2.  ]\n",
      "  [-2.02]\n",
      "  [-2.  ]\n",
      "  [-2.  ]\n",
      "  [-2.  ]\n",
      "  [-2.  ]\n",
      "  [-2.  ]\n",
      "  [-2.  ]\n",
      "  [-2.  ]\n",
      "  [-1.98]\n",
      "  [-2.  ]\n",
      "  [-2.  ]\n",
      "  [-1.99]\n",
      "  [-1.99]\n",
      "  [-2.  ]\n",
      "  [-2.  ]\n",
      "  [-2.  ]\n",
      "  [-2.  ]\n",
      "  [-2.  ]\n",
      "  [-2.  ]\n",
      "  [-2.  ]\n",
      "  [-2.  ]\n",
      "  [-2.  ]\n",
      "  [-2.02]\n",
      "  [-2.02]\n",
      "  [-2.  ]\n",
      "  [-2.  ]\n",
      "  [-2.02]\n",
      "  [-2.02]\n",
      "  [-2.  ]\n",
      "  [-2.  ]\n",
      "  [-2.  ]\n",
      "  [-2.  ]\n",
      "  [-2.  ]\n",
      "  [-2.  ]\n",
      "  [-2.02]\n",
      "  [-2.02]\n",
      "  [-2.  ]\n",
      "  [-2.  ]\n",
      "  [-2.  ]\n",
      "  [-2.  ]\n",
      "  [-2.  ]\n",
      "  [-2.  ]\n",
      "  [-2.  ]\n",
      "  [-2.  ]\n",
      "  [-2.  ]\n",
      "  [-2.  ]\n",
      "  [-2.  ]\n",
      "  [-2.  ]\n",
      "  [-2.  ]\n",
      "  [-2.  ]\n",
      "  [-2.  ]\n",
      "  [-2.  ]\n",
      "  [-2.02]\n",
      "  [-2.02]\n",
      "  [-1.98]\n",
      "  [-1.98]\n",
      "  [-1.99]\n",
      "  [-1.99]\n",
      "  [-2.  ]\n",
      "  [-2.  ]\n",
      "  [-2.  ]\n",
      "  [-2.  ]\n",
      "  [-2.  ]\n",
      "  [-2.  ]\n",
      "  [-2.02]\n",
      "  [-2.02]\n",
      "  [-2.  ]\n",
      "  [-2.  ]\n",
      "  [-1.99]\n",
      "  [-1.99]\n",
      "  [-2.  ]\n",
      "  [-2.  ]\n",
      "  [-2.  ]\n",
      "  [-2.  ]\n",
      "  [-2.  ]\n",
      "  [-2.  ]\n",
      "  [-1.99]\n",
      "  [-1.99]\n",
      "  [-2.  ]\n",
      "  [-2.  ]\n",
      "  [-2.02]\n",
      "  [-2.02]\n",
      "  [-2.02]\n",
      "  [-2.02]]\n",
      "\n",
      " [[-2.  ]\n",
      "  [-1.99]\n",
      "  [-1.99]\n",
      "  [-2.  ]\n",
      "  [-2.  ]\n",
      "  [-2.02]\n",
      "  [-2.02]\n",
      "  [-2.  ]\n",
      "  [-2.  ]\n",
      "  [-2.  ]\n",
      "  [-2.  ]\n",
      "  [-2.  ]\n",
      "  [-2.  ]\n",
      "  [-2.  ]\n",
      "  [-2.  ]\n",
      "  [-2.02]\n",
      "  [-2.  ]\n",
      "  [-2.  ]\n",
      "  [-2.  ]\n",
      "  [-2.  ]\n",
      "  [-2.  ]\n",
      "  [-2.  ]\n",
      "  [-2.  ]\n",
      "  [-1.98]\n",
      "  [-2.  ]\n",
      "  [-2.  ]\n",
      "  [-1.99]\n",
      "  [-1.99]\n",
      "  [-2.  ]\n",
      "  [-2.  ]\n",
      "  [-2.  ]\n",
      "  [-2.  ]\n",
      "  [-2.  ]\n",
      "  [-2.  ]\n",
      "  [-2.  ]\n",
      "  [-2.  ]\n",
      "  [-2.  ]\n",
      "  [-2.02]\n",
      "  [-2.02]\n",
      "  [-2.  ]\n",
      "  [-2.  ]\n",
      "  [-2.02]\n",
      "  [-2.02]\n",
      "  [-2.  ]\n",
      "  [-2.  ]\n",
      "  [-2.  ]\n",
      "  [-2.  ]\n",
      "  [-2.  ]\n",
      "  [-2.  ]\n",
      "  [-2.02]\n",
      "  [-2.02]\n",
      "  [-2.  ]\n",
      "  [-2.  ]\n",
      "  [-2.  ]\n",
      "  [-2.  ]\n",
      "  [-2.  ]\n",
      "  [-2.  ]\n",
      "  [-2.  ]\n",
      "  [-2.  ]\n",
      "  [-2.  ]\n",
      "  [-2.  ]\n",
      "  [-2.  ]\n",
      "  [-2.  ]\n",
      "  [-2.  ]\n",
      "  [-2.  ]\n",
      "  [-2.  ]\n",
      "  [-2.  ]\n",
      "  [-2.02]\n",
      "  [-2.02]\n",
      "  [-1.98]\n",
      "  [-1.98]\n",
      "  [-1.99]\n",
      "  [-1.99]\n",
      "  [-2.  ]\n",
      "  [-2.  ]\n",
      "  [-2.  ]\n",
      "  [-2.  ]\n",
      "  [-2.  ]\n",
      "  [-2.  ]\n",
      "  [-2.02]\n",
      "  [-2.02]\n",
      "  [-2.  ]\n",
      "  [-2.  ]\n",
      "  [-1.99]\n",
      "  [-1.99]\n",
      "  [-2.  ]\n",
      "  [-2.  ]\n",
      "  [-2.  ]\n",
      "  [-2.  ]\n",
      "  [-2.  ]\n",
      "  [-2.  ]\n",
      "  [-1.99]\n",
      "  [-1.99]\n",
      "  [-2.  ]\n",
      "  [-2.  ]\n",
      "  [-2.02]\n",
      "  [-2.02]\n",
      "  [-2.02]\n",
      "  [-2.02]\n",
      "  [-2.  ]]\n",
      "\n",
      " [[-1.99]\n",
      "  [-1.99]\n",
      "  [-2.  ]\n",
      "  [-2.  ]\n",
      "  [-2.02]\n",
      "  [-2.02]\n",
      "  [-2.  ]\n",
      "  [-2.  ]\n",
      "  [-2.  ]\n",
      "  [-2.  ]\n",
      "  [-2.  ]\n",
      "  [-2.  ]\n",
      "  [-2.  ]\n",
      "  [-2.  ]\n",
      "  [-2.02]\n",
      "  [-2.  ]\n",
      "  [-2.  ]\n",
      "  [-2.  ]\n",
      "  [-2.  ]\n",
      "  [-2.  ]\n",
      "  [-2.  ]\n",
      "  [-2.  ]\n",
      "  [-1.98]\n",
      "  [-2.  ]\n",
      "  [-2.  ]\n",
      "  [-1.99]\n",
      "  [-1.99]\n",
      "  [-2.  ]\n",
      "  [-2.  ]\n",
      "  [-2.  ]\n",
      "  [-2.  ]\n",
      "  [-2.  ]\n",
      "  [-2.  ]\n",
      "  [-2.  ]\n",
      "  [-2.  ]\n",
      "  [-2.  ]\n",
      "  [-2.02]\n",
      "  [-2.02]\n",
      "  [-2.  ]\n",
      "  [-2.  ]\n",
      "  [-2.02]\n",
      "  [-2.02]\n",
      "  [-2.  ]\n",
      "  [-2.  ]\n",
      "  [-2.  ]\n",
      "  [-2.  ]\n",
      "  [-2.  ]\n",
      "  [-2.  ]\n",
      "  [-2.02]\n",
      "  [-2.02]\n",
      "  [-2.  ]\n",
      "  [-2.  ]\n",
      "  [-2.  ]\n",
      "  [-2.  ]\n",
      "  [-2.  ]\n",
      "  [-2.  ]\n",
      "  [-2.  ]\n",
      "  [-2.  ]\n",
      "  [-2.  ]\n",
      "  [-2.  ]\n",
      "  [-2.  ]\n",
      "  [-2.  ]\n",
      "  [-2.  ]\n",
      "  [-2.  ]\n",
      "  [-2.  ]\n",
      "  [-2.  ]\n",
      "  [-2.02]\n",
      "  [-2.02]\n",
      "  [-1.98]\n",
      "  [-1.98]\n",
      "  [-1.99]\n",
      "  [-1.99]\n",
      "  [-2.  ]\n",
      "  [-2.  ]\n",
      "  [-2.  ]\n",
      "  [-2.  ]\n",
      "  [-2.  ]\n",
      "  [-2.  ]\n",
      "  [-2.02]\n",
      "  [-2.02]\n",
      "  [-2.  ]\n",
      "  [-2.  ]\n",
      "  [-1.99]\n",
      "  [-1.99]\n",
      "  [-2.  ]\n",
      "  [-2.  ]\n",
      "  [-2.  ]\n",
      "  [-2.  ]\n",
      "  [-2.  ]\n",
      "  [-2.  ]\n",
      "  [-1.99]\n",
      "  [-1.99]\n",
      "  [-2.  ]\n",
      "  [-2.  ]\n",
      "  [-2.02]\n",
      "  [-2.02]\n",
      "  [-2.02]\n",
      "  [-2.02]\n",
      "  [-2.  ]\n",
      "  [-2.  ]]\n",
      "\n",
      " [[-1.99]\n",
      "  [-2.  ]\n",
      "  [-2.  ]\n",
      "  [-2.02]\n",
      "  [-2.02]\n",
      "  [-2.  ]\n",
      "  [-2.  ]\n",
      "  [-2.  ]\n",
      "  [-2.  ]\n",
      "  [-2.  ]\n",
      "  [-2.  ]\n",
      "  [-2.  ]\n",
      "  [-2.  ]\n",
      "  [-2.02]\n",
      "  [-2.  ]\n",
      "  [-2.  ]\n",
      "  [-2.  ]\n",
      "  [-2.  ]\n",
      "  [-2.  ]\n",
      "  [-2.  ]\n",
      "  [-2.  ]\n",
      "  [-1.98]\n",
      "  [-2.  ]\n",
      "  [-2.  ]\n",
      "  [-1.99]\n",
      "  [-1.99]\n",
      "  [-2.  ]\n",
      "  [-2.  ]\n",
      "  [-2.  ]\n",
      "  [-2.  ]\n",
      "  [-2.  ]\n",
      "  [-2.  ]\n",
      "  [-2.  ]\n",
      "  [-2.  ]\n",
      "  [-2.  ]\n",
      "  [-2.02]\n",
      "  [-2.02]\n",
      "  [-2.  ]\n",
      "  [-2.  ]\n",
      "  [-2.02]\n",
      "  [-2.02]\n",
      "  [-2.  ]\n",
      "  [-2.  ]\n",
      "  [-2.  ]\n",
      "  [-2.  ]\n",
      "  [-2.  ]\n",
      "  [-2.  ]\n",
      "  [-2.02]\n",
      "  [-2.02]\n",
      "  [-2.  ]\n",
      "  [-2.  ]\n",
      "  [-2.  ]\n",
      "  [-2.  ]\n",
      "  [-2.  ]\n",
      "  [-2.  ]\n",
      "  [-2.  ]\n",
      "  [-2.  ]\n",
      "  [-2.  ]\n",
      "  [-2.  ]\n",
      "  [-2.  ]\n",
      "  [-2.  ]\n",
      "  [-2.  ]\n",
      "  [-2.  ]\n",
      "  [-2.  ]\n",
      "  [-2.  ]\n",
      "  [-2.02]\n",
      "  [-2.02]\n",
      "  [-1.98]\n",
      "  [-1.98]\n",
      "  [-1.99]\n",
      "  [-1.99]\n",
      "  [-2.  ]\n",
      "  [-2.  ]\n",
      "  [-2.  ]\n",
      "  [-2.  ]\n",
      "  [-2.  ]\n",
      "  [-2.  ]\n",
      "  [-2.02]\n",
      "  [-2.02]\n",
      "  [-2.  ]\n",
      "  [-2.  ]\n",
      "  [-1.99]\n",
      "  [-1.99]\n",
      "  [-2.  ]\n",
      "  [-2.  ]\n",
      "  [-2.  ]\n",
      "  [-2.  ]\n",
      "  [-2.  ]\n",
      "  [-2.  ]\n",
      "  [-1.99]\n",
      "  [-1.99]\n",
      "  [-2.  ]\n",
      "  [-2.  ]\n",
      "  [-2.02]\n",
      "  [-2.02]\n",
      "  [-2.02]\n",
      "  [-2.02]\n",
      "  [-2.  ]\n",
      "  [-2.  ]\n",
      "  [-2.  ]]]\n",
      "X index shape = [1704067200 1704067201 1704067202 1704067203 1704067204]\n",
      "y index shape = [1704067300 1704067301 1704067302 1704067303 1704067304]\n"
     ]
    }
   ],
   "source": [
    "# after slicing X into multiple sub-sequences\n",
    "# we obtain a 3 dimensional matrix X where\n",
    "# the shape indicates (# slices, window size, 1)\n",
    "# and similarly y is (# slices, target size)\n",
    "\n",
    "print(\"X shape = {}\\ny shape = {}\\nX index shape = {}\\ny index shape = {}\".format(\n",
    "    context['X'].shape, context['y'].shape, context['index'].shape, context['y_index'].shape))\n",
    "\n",
    "print(\"X shape = {}\\ny shape = {}\\nX index shape = {}\\ny index shape = {}\".format(\n",
    "    context['X'][:5], context['y'][:5], context['index'][:5], context['y_index'][:5]))\n",
    "\n",
    "\n",
    "y_ = context['y'].copy() # make a copy to copare later"
   ]
  },
  {
   "cell_type": "code",
   "execution_count": null,
   "id": "fef6afe1-1396-4c17-ad55-b460a0ab60fd",
   "metadata": {},
   "outputs": [],
   "source": []
  },
  {
   "cell_type": "markdown",
   "id": "38070b3d-2276-4730-897a-f7178f17e05b",
   "metadata": {},
   "source": [
    "### slice array by dims\n",
    "\n",
    "this primitive selects a particular channel from `X` to try and reconstruct / predict it.\n",
    "\n",
    "* **input**:\n",
    "    * `X` n-dimensional array containing the input sequences.\n",
    "    * `target_index` which index from `X` to slice out.\n",
    "* **output**:\n",
    "    * `y` 1-dimenstional array containing the target sequences."
   ]
  },
  {
   "cell_type": "code",
   "execution_count": 127,
   "id": "34eddaa6-02b6-48bf-b72d-512a51e597b1",
   "metadata": {},
   "outputs": [
    {
     "data": {
      "text/plain": [
       "dict_keys(['index', 'X_index', 'y_index', 'X', 'y'])"
      ]
     },
     "execution_count": 127,
     "metadata": {},
     "output_type": "execute_result"
    }
   ],
   "source": [
    "step = 4\n",
    "\n",
    "context = pipeline.fit(**context, output_=step, start_=step)\n",
    "context.keys()"
   ]
  },
  {
   "cell_type": "code",
   "execution_count": 128,
   "id": "540316c9-8685-44f6-991b-79dc9d2e9771",
   "metadata": {},
   "outputs": [
    {
     "data": {
      "text/plain": [
       "dict_keys(['index', 'X_index', 'y_index', 'X', 'y'])"
      ]
     },
     "execution_count": 128,
     "metadata": {},
     "output_type": "execute_result"
    }
   ],
   "source": [
    "context[]"
   ]
  },
  {
   "cell_type": "markdown",
   "id": "92a03719",
   "metadata": {},
   "source": [
    "### AER\n",
    "this is a hybrid prediction and reconstruction model using LSTM layers. you can read more about it in the [related paper](https://arxiv.org/pdf/2212.13558).\n",
    "\n",
    "* **input**: \n",
    "    - `X` n-dimensional array containing the input sequences for the model.\n",
    "    - `y` n-dimensional array containing the target sequences for the model.\n",
    "* **output**: `y_hat` predicted values."
   ]
  },
  {
   "cell_type": "code",
   "execution_count": 130,
   "id": "062598c1",
   "metadata": {},
   "outputs": [
    {
     "name": "stderr",
     "output_type": "stream",
     "text": [
      "WARNING:absl:There is a known slowdown when using v2.11+ Keras optimizers on M1/M2 Macs. Falling back to the legacy Keras optimizer, i.e., `tf.keras.optimizers.legacy.Adam`.\n"
     ]
    },
    {
     "name": "stdout",
     "output_type": "stream",
     "text": [
      "Epoch 1/5\n",
      "6370/6370 [==============================] - 295s 46ms/step - loss: 2.8724 - tf.__operators__.getitem_loss: 2.6506 - tf.__operators__.getitem_1_loss: 3.1234 - tf.__operators__.getitem_2_loss: 2.5920 - val_loss: 15.3035 - val_tf.__operators__.getitem_loss: 12.0283 - val_tf.__operators__.getitem_1_loss: 16.1838 - val_tf.__operators__.getitem_2_loss: 16.8181\n",
      "Epoch 2/5\n",
      "6370/6370 [==============================] - 282s 44ms/step - loss: 2.3969 - tf.__operators__.getitem_loss: 1.9457 - tf.__operators__.getitem_1_loss: 2.8618 - tf.__operators__.getitem_2_loss: 1.9183 - val_loss: 22.9757 - val_tf.__operators__.getitem_loss: 11.3338 - val_tf.__operators__.getitem_1_loss: 27.6961 - val_tf.__operators__.getitem_2_loss: 25.1769\n",
      "Epoch 3/5\n",
      "6370/6370 [==============================] - 282s 44ms/step - loss: 2.3218 - tf.__operators__.getitem_loss: 1.8110 - tf.__operators__.getitem_1_loss: 2.8198 - tf.__operators__.getitem_2_loss: 1.8366 - val_loss: 23.4988 - val_tf.__operators__.getitem_loss: 12.6892 - val_tf.__operators__.getitem_1_loss: 32.6814 - val_tf.__operators__.getitem_2_loss: 15.9430\n",
      "Epoch 4/5\n",
      "6370/6370 [==============================] - 421s 66ms/step - loss: 2.2793 - tf.__operators__.getitem_loss: 1.7413 - tf.__operators__.getitem_1_loss: 2.7869 - tf.__operators__.getitem_2_loss: 1.8021 - val_loss: 23.8505 - val_tf.__operators__.getitem_loss: 20.0489 - val_tf.__operators__.getitem_1_loss: 27.8692 - val_tf.__operators__.getitem_2_loss: 19.6146\n",
      "Epoch 5/5\n",
      "6370/6370 [==============================] - 287s 45ms/step - loss: 2.2335 - tf.__operators__.getitem_loss: 1.6580 - tf.__operators__.getitem_1_loss: 2.7645 - tf.__operators__.getitem_2_loss: 1.7472 - val_loss: 20.1511 - val_tf.__operators__.getitem_loss: 15.4264 - val_tf.__operators__.getitem_1_loss: 25.4502 - val_tf.__operators__.getitem_2_loss: 14.2775\n",
      "15923/15923 [==============================] - 55s 3ms/step\n",
      "15923/15923 [==============================] - 77s 5ms/step\n"
     ]
    },
    {
     "data": {
      "text/plain": [
       "dict_keys(['index', 'X_index', 'y_index', 'X', 'y', 'ry_hat', 'y_hat', 'fy_hat'])"
      ]
     },
     "execution_count": 130,
     "metadata": {},
     "output_type": "execute_result"
    }
   ],
   "source": [
    "step = 5\n",
    "\n",
    "context = pipeline.fit(**context, output_=step, start_=step)\n",
    "context.keys()"
   ]
  },
  {
   "cell_type": "code",
   "execution_count": 135,
   "id": "a9007107",
   "metadata": {},
   "outputs": [
    {
     "name": "stdout",
     "output_type": "stream",
     "text": [
      "entry at 1704576812 has value [-8.26], predicted value [-7.108035]\n",
      "entry at 1704576813 has value [-8.25], predicted value [-7.100478]\n",
      "entry at 1704576814 has value [-8.25], predicted value [-7.0678062]\n",
      "entry at 1704576815 has value [-8.2], predicted value [-7.07265]\n",
      "entry at 1704576816 has value [-8.2], predicted value [-7.048071]\n",
      "entry at 1704576817 has value [-8.23], predicted value [-7.161743]\n",
      "entry at 1704576818 has value [-8.23], predicted value [-7.1578693]\n",
      "entry at 1704576819 has value [-8.27], predicted value [-7.1669884]\n",
      "entry at 1704576820 has value [-8.27], predicted value [-7.1837893]\n",
      "entry at 1704576821 has value [-8.28], predicted value [-7.179118]\n",
      "entry at 1704576822 has value [-8.28], predicted value [-7.185335]\n",
      "entry at 1704576823 has value [-8.25], predicted value [-7.227417]\n",
      "entry at 1704576824 has value [-8.25], predicted value [-7.342127]\n",
      "entry at 1704576825 has value [-8.24], predicted value [-7.0781]\n",
      "entry at 1704576826 has value [-8.24], predicted value [-7.2181845]\n",
      "entry at 1704576827 has value [-8.27], predicted value [-7.1431847]\n",
      "entry at 1704576828 has value [-8.27], predicted value [-7.1860895]\n",
      "entry at 1704576829 has value [-8.27], predicted value [-7.176179]\n",
      "entry at 1704576830 has value [-8.25], predicted value [-7.182719]\n",
      "entry at 1704576831 has value [-8.27], predicted value [-7.167897]\n"
     ]
    }
   ],
   "source": [
    "ry, fy = context['y'][:, 0], context['y'][:, -1]\n",
    "\n",
    "for i, y, y_hat in list(zip(context['y_index'], fy, context['fy_hat']))[-20:]:\n",
    "    print(\"entry at {} has value {}, predicted value {}\".format(i, y, y_hat))"
   ]
  },
  {
   "cell_type": "markdown",
   "id": "adeadad7",
   "metadata": {},
   "source": [
    "### score anomalies\n",
    "\n",
    "this primitive computes an array of errors comparing predictions and expected output.\n",
    "\n",
    "* **input**: \n",
    "    - `y` ground truth.\n",
    "    - `y_hat` reconstructed values.\n",
    "    - `fy_hat` forward prediction values.\n",
    "    - `ry_hat` reverse prediction values.\n",
    "* **output**: `errors` array of errors."
   ]
  },
  {
   "cell_type": "code",
   "execution_count": 132,
   "id": "56173e5e",
   "metadata": {},
   "outputs": [
    {
     "data": {
      "text/plain": [
       "dict_keys(['index', 'X_index', 'y_index', 'ry_hat', 'y_hat', 'fy_hat', 'X', 'y', 'errors'])"
      ]
     },
     "execution_count": 132,
     "metadata": {},
     "output_type": "execute_result"
    }
   ],
   "source": [
    "step = 6\n",
    "\n",
    "context = pipeline.fit(**context, output_=step, start_=step)\n",
    "context.keys()"
   ]
  },
  {
   "cell_type": "code",
   "execution_count": 136,
   "id": "125b1fc9",
   "metadata": {},
   "outputs": [
    {
     "name": "stdout",
     "output_type": "stream",
     "text": [
      "entry at 1704067300 has error value 1.000\n",
      "entry at 1704067301 has error value 1.001\n",
      "entry at 1704067302 has error value 1.001\n",
      "entry at 1704067303 has error value 1.001\n",
      "entry at 1704067304 has error value 1.001\n"
     ]
    }
   ],
   "source": [
    "for i, e in list(zip(context['y_index'], context['errors']))[:5]:\n",
    "    print(\"entry at {} has error value {:.3f}\".format(i, e))"
   ]
  },
  {
   "cell_type": "code",
   "execution_count": 137,
   "id": "027a44a6-9c22-48d9-a1f2-26910f69cd08",
   "metadata": {},
   "outputs": [
    {
     "data": {
      "image/png": "[encoded data removed]",
      "text/plain": [
       "<Figure size 1000x300 with 2 Axes>"
      ]
     },
     "metadata": {},
     "output_type": "display_data"
    }
   ],
   "source": [
    "import matplotlib.pyplot as plt\n",
    "\n",
    "fig, axs = plt.subplots(2, 1, figsize=(10, 3))\n",
    "\n",
    "ax1, ax2 = axs\n",
    "ax1.plot(fy, label='original')\n",
    "ax1.plot(context['fy_hat'], label='predicted')\n",
    "ax1.set_title('fy')\n",
    "\n",
    "ax2.plot(ry, label='original')\n",
    "ax2.plot(context['ry_hat'], label='predicted')\n",
    "ax2.set_title('ry')\n",
    "\n",
    "handles, labels = ax1.get_legend_handles_labels()\n",
    "fig.legend(handles, labels, ncols=2, loc='upper right')\n",
    "plt.tight_layout()\n",
    "plt.show();"
   ]
  },
  {
   "cell_type": "code",
   "execution_count": 139,
   "id": "a70e93e3-be2a-4893-b6fa-c1aa374232b0",
   "metadata": {},
   "outputs": [
    {
     "data": {
      "image/png": "[encoded data removed]",
      "text/plain": [
       "<Figure size 1000x200 with 1 Axes>"
      ]
     },
     "metadata": {},
     "output_type": "display_data"
    }
   ],
   "source": [
    "import matplotlib.pyplot as plt\n",
    "\n",
    "fig = plt.figure(figsize=(10, 2))\n",
    "ax = fig.gca()\n",
    "\n",
    "t = data['timestamp'].values\n",
    "\n",
    "data.plot(x='timestamp', y='v1', ax=ax)\n",
    "plt.plot(t[100:], context['fy_hat'], label='fy')\n",
    "plt.plot(t[:-100], context['ry_hat'], label='ry')\n",
    "\n",
    "plt.plot(t[:-1], context['errors'], label='errors')\n",
    "plt.legend(ncols=4)\n",
    "\n",
    "plt.show();"
   ]
  },
  {
   "cell_type": "markdown",
   "id": "a15a1d20",
   "metadata": {},
   "source": [
    "### find anomalies\n",
    "this primitive extracts anomalies from sequences of errors following the approach explained in the [related paper](https://arxiv.org/pdf/1802.04431.pdf).\n",
    "\n",
    "* **input**: \n",
    "    - `errors` array of errors.\n",
    "    - `target_index` array of indices of errors.\n",
    "* **output**: `y` array containing start-index, end-index, score for each anomalous sequence that was found."
   ]
  },
  {
   "cell_type": "code",
   "execution_count": 140,
   "id": "ac7ad495",
   "metadata": {},
   "outputs": [
    {
     "data": {
      "text/plain": [
       "dict_keys(['index', 'X_index', 'y_index', 'ry_hat', 'y_hat', 'fy_hat', 'errors', 'X', 'y'])"
      ]
     },
     "execution_count": 140,
     "metadata": {},
     "output_type": "execute_result"
    }
   ],
   "source": [
    "step = 7\n",
    "\n",
    "context = pipeline.fit(**context, output_=step, start_=step)\n",
    "context.keys()"
   ]
  },
  {
   "cell_type": "code",
   "execution_count": 142,
   "id": "2990ef4a-9e16-4db1-bc43-5b77c7f29a89",
   "metadata": {},
   "outputs": [
    {
     "data": {
      "text/plain": [
       "array([[1.70445987e+09, 1.70446037e+09, 4.39722374e-01],\n",
       "       [1.70446075e+09, 1.70446122e+09, 6.53210229e-01],\n",
       "       [1.70447345e+09, 1.70447408e+09, 5.83889392e-01]])"
      ]
     },
     "execution_count": 142,
     "metadata": {},
     "output_type": "execute_result"
    }
   ],
   "source": [
    "context['y']"
   ]
  },
  {
   "cell_type": "code",
   "execution_count": 144,
   "id": "1aebdbc1",
   "metadata": {},
   "outputs": [
    {
     "data": {
      "text/html": [
       "<div>\n",
       "<style scoped>\n",
       "    .dataframe tbody tr th:only-of-type {\n",
       "        vertical-align: middle;\n",
       "    }\n",
       "\n",
       "    .dataframe tbody tr th {\n",
       "        vertical-align: top;\n",
       "    }\n",
       "\n",
       "    .dataframe thead th {\n",
       "        text-align: right;\n",
       "    }\n",
       "</style>\n",
       "<table border=\"1\" class=\"dataframe\">\n",
       "  <thead>\n",
       "    <tr style=\"text-align: right;\">\n",
       "      <th></th>\n",
       "      <th>start</th>\n",
       "      <th>end</th>\n",
       "      <th>severity</th>\n",
       "    </tr>\n",
       "  </thead>\n",
       "  <tbody>\n",
       "    <tr>\n",
       "      <th>0</th>\n",
       "      <td>1704459870</td>\n",
       "      <td>1704460374</td>\n",
       "      <td>0.439722</td>\n",
       "    </tr>\n",
       "    <tr>\n",
       "      <th>1</th>\n",
       "      <td>1704460752</td>\n",
       "      <td>1704461223</td>\n",
       "      <td>0.653210</td>\n",
       "    </tr>\n",
       "    <tr>\n",
       "      <th>2</th>\n",
       "      <td>1704473450</td>\n",
       "      <td>1704474076</td>\n",
       "      <td>0.583889</td>\n",
       "    </tr>\n",
       "  </tbody>\n",
       "</table>\n",
       "</div>"
      ],
      "text/plain": [
       "        start         end  severity\n",
       "0  1704459870  1704460374  0.439722\n",
       "1  1704460752  1704461223  0.653210\n",
       "2  1704473450  1704474076  0.583889"
      ]
     },
     "execution_count": 144,
     "metadata": {},
     "output_type": "execute_result"
    }
   ],
   "source": [
    "df = pd.DataFrame(context['y'], columns=['start', 'end', 'severity'])\n",
    "df['start'] = df['start'].astype('int64')\n",
    "df['end'] = df['end'].astype('int64')\n",
    "df"
   ]
  },
  {
   "cell_type": "code",
   "execution_count": 148,
   "id": "8749fa1e-3ca4-446f-b5fe-e5d67abb7a06",
   "metadata": {},
   "outputs": [],
   "source": [
    "pipeline.save(\"/Users/coloner/IdeaProjects/ml/Orion/data/model\")"
   ]
  }
 ],
 "metadata": {
  "kernelspec": {
   "display_name": "orion (venv)",
   "language": "python",
   "name": "venv"
  },
  "language_info": {
   "codemirror_mode": {
    "name": "ipython",
    "version": 3
   },
   "file_extension": ".py",
   "mimetype": "text/x-python",
   "name": "python",
   "nbconvert_exporter": "python",
   "pygments_lexer": "ipython3",
   "version": "3.9.6"
  }
 },
 "nbformat": 4,
 "nbformat_minor": 5
}
